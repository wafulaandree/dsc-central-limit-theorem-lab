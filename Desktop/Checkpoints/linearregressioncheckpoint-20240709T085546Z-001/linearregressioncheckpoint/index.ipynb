{
 "cells": [
  {
   "cell_type": "markdown",
   "metadata": {
    "deletable": false,
    "editable": false,
    "nbgrader": {
     "cell_type": "markdown",
     "checksum": "160db7f545a41c1c2ad9ae1938848df1",
     "grade": false,
     "grade_id": "cell-3578a4f6a92df65d",
     "locked": true,
     "schema_version": 3,
     "solution": false,
     "task": false
    }
   },
   "source": [
    "# Linear Regression Checkpoint\n",
    "\n",
    "This checkpoint is designed to test your understanding of linear regression.\n",
    "\n",
    "Specifically, this will cover:\n",
    "\n",
    "* Creating simple and multiple linear regression models with StatsModels\n",
    "* Interpreting linear regression model metrics\n",
    "* Interpreting linear regression model parameters"
   ]
  },
  {
   "cell_type": "markdown",
   "metadata": {
    "deletable": false,
    "editable": false,
    "nbgrader": {
     "cell_type": "markdown",
     "checksum": "460adda9d0a182f5c982d705306e96de",
     "grade": false,
     "grade_id": "cell-c20eb151e05b7a00",
     "locked": true,
     "schema_version": 3,
     "solution": false,
     "task": false
    }
   },
   "source": [
    "## Your Task: Build Linear Regression Models to Predict Home Prices\n",
    "\n",
    "### Data Understanding\n",
    "\n",
    "You will be using the Ames Housing dataset, modeling the `SalePrice` using these numeric features:\n",
    "\n",
    "* `GrLivArea`: Above grade living area (square feet)\n",
    "* `GarageArea`: Size of garage (square feet)\n",
    "* `LotArea`: Lot size (square feet)\n",
    "* `LotFrontage`: Length of street connected to property (feet)"
   ]
  },
  {
   "cell_type": "code",
   "execution_count": 1,
   "metadata": {
    "deletable": false,
    "editable": false,
    "nbgrader": {
     "cell_type": "code",
     "checksum": "3546d7274fdc86fbe1021405b7cb394d",
     "grade": false,
     "grade_id": "cell-0c2618a86ae14fdf",
     "locked": true,
     "schema_version": 3,
     "solution": false,
     "task": false
    }
   },
   "outputs": [
    {
     "data": {
      "text/html": [
       "<div>\n",
       "<style scoped>\n",
       "    .dataframe tbody tr th:only-of-type {\n",
       "        vertical-align: middle;\n",
       "    }\n",
       "\n",
       "    .dataframe tbody tr th {\n",
       "        vertical-align: top;\n",
       "    }\n",
       "\n",
       "    .dataframe thead th {\n",
       "        text-align: right;\n",
       "    }\n",
       "</style>\n",
       "<table border=\"1\" class=\"dataframe\">\n",
       "  <thead>\n",
       "    <tr style=\"text-align: right;\">\n",
       "      <th></th>\n",
       "      <th>SalePrice</th>\n",
       "      <th>GrLivArea</th>\n",
       "      <th>GarageArea</th>\n",
       "      <th>LotArea</th>\n",
       "      <th>LotFrontage</th>\n",
       "    </tr>\n",
       "    <tr>\n",
       "      <th>Id</th>\n",
       "      <th></th>\n",
       "      <th></th>\n",
       "      <th></th>\n",
       "      <th></th>\n",
       "      <th></th>\n",
       "    </tr>\n",
       "  </thead>\n",
       "  <tbody>\n",
       "    <tr>\n",
       "      <th>1</th>\n",
       "      <td>208500</td>\n",
       "      <td>1710</td>\n",
       "      <td>548</td>\n",
       "      <td>8450</td>\n",
       "      <td>65.0</td>\n",
       "    </tr>\n",
       "    <tr>\n",
       "      <th>2</th>\n",
       "      <td>181500</td>\n",
       "      <td>1262</td>\n",
       "      <td>460</td>\n",
       "      <td>9600</td>\n",
       "      <td>80.0</td>\n",
       "    </tr>\n",
       "    <tr>\n",
       "      <th>3</th>\n",
       "      <td>223500</td>\n",
       "      <td>1786</td>\n",
       "      <td>608</td>\n",
       "      <td>11250</td>\n",
       "      <td>68.0</td>\n",
       "    </tr>\n",
       "    <tr>\n",
       "      <th>4</th>\n",
       "      <td>140000</td>\n",
       "      <td>1717</td>\n",
       "      <td>642</td>\n",
       "      <td>9550</td>\n",
       "      <td>60.0</td>\n",
       "    </tr>\n",
       "    <tr>\n",
       "      <th>5</th>\n",
       "      <td>250000</td>\n",
       "      <td>2198</td>\n",
       "      <td>836</td>\n",
       "      <td>14260</td>\n",
       "      <td>84.0</td>\n",
       "    </tr>\n",
       "  </tbody>\n",
       "</table>\n",
       "</div>"
      ],
      "text/plain": [
       "    SalePrice  GrLivArea  GarageArea  LotArea  LotFrontage\n",
       "Id                                                        \n",
       "1      208500       1710         548     8450         65.0\n",
       "2      181500       1262         460     9600         80.0\n",
       "3      223500       1786         608    11250         68.0\n",
       "4      140000       1717         642     9550         60.0\n",
       "5      250000       2198         836    14260         84.0"
      ]
     },
     "execution_count": 1,
     "metadata": {},
     "output_type": "execute_result"
    }
   ],
   "source": [
    "# Run this cell without changes\n",
    "\n",
    "import pandas as pd\n",
    "df = pd.read_csv(\"./ames.csv\", index_col=0)\n",
    "df = df[[\"SalePrice\", \"GrLivArea\", \"GarageArea\", \"LotArea\", \"LotFrontage\"]].copy()\n",
    "df.head()"
   ]
  },
  {
   "cell_type": "markdown",
   "metadata": {
    "deletable": false,
    "editable": false,
    "nbgrader": {
     "cell_type": "markdown",
     "checksum": "2013ecc110b2275622f8112c8d3034e9",
     "grade": false,
     "grade_id": "cell-b251b9dc9f044806",
     "locked": true,
     "schema_version": 3,
     "solution": false,
     "task": false
    }
   },
   "source": [
    "### Modeling\n",
    "\n",
    "You will apply an inferential modeling process using StatsModels. This means that you are trying to create the best model in terms of variance in `SalePrice` that is explained (i.e. r-squared), not RMSE or some other more user-friendly metric. For this reason you also will not use a train-test split.\n",
    "\n",
    "You will build **two models — one simple linear regression model and one multiple linear regresssion model** — then you will interpret the model summaries.\n",
    "\n",
    "There are two relevant components of interpreting the model summaries: model **metrics** such as r-squared and p-values, which tell you how well your model is fit to the data, and model **parameters** (intercept and coefficients), which tell you how the model is using the feature(s) to predict the target.\n",
    "\n",
    "### Requirements"
   ]
  },
  {
   "cell_type": "markdown",
   "metadata": {
    "deletable": false,
    "editable": false,
    "nbgrader": {
     "cell_type": "markdown",
     "checksum": "28616a8e09439d0fa43073ed999812ef",
     "grade": false,
     "grade_id": "cell-b60866e4db6c8525",
     "locked": true,
     "schema_version": 3,
     "solution": false,
     "task": false
    }
   },
   "source": [
    "## 1. Build a Simple Linear Regression Using StatsModels\n",
    "\n",
    "Below, we use the `.corr()` method to find which features are most correlated with `SalePrice`:"
   ]
  },
  {
   "cell_type": "code",
   "execution_count": null,
   "metadata": {
    "deletable": false,
    "editable": false,
    "nbgrader": {
     "cell_type": "code",
     "checksum": "e08c48970c91521ca12abd2e783e620b",
     "grade": false,
     "grade_id": "cell-a7f9739ece571cd3",
     "locked": true,
     "schema_version": 3,
     "solution": false,
     "task": false
    }
   },
   "outputs": [],
   "source": [
    "# Run this cell without changes\n",
    "df.corr()[\"SalePrice\"]"
   ]
  },
  {
   "cell_type": "markdown",
   "metadata": {
    "deletable": false,
    "editable": false,
    "nbgrader": {
     "cell_type": "markdown",
     "checksum": "c0777f51c6419c4f9efdbc68ed724d1d",
     "grade": false,
     "grade_id": "cell-ea72d0fe82eed8a9",
     "locked": true,
     "schema_version": 3,
     "solution": false,
     "task": false
    }
   },
   "source": [
    "The `GrLivArea` feature has the highest correlation with `SalePrice`, so we will use it to build a simple linear regression model.\n",
    "\n",
    "Recall that the general structure of a StatsModels linear regression model is something like this:\n",
    "\n",
    "```python\n",
    "formula = 'y ~ x'\n",
    "model = ols(formula, df).fit()\n",
    "summary = model.summary()\n",
    "```\n",
    "\n",
    "Where `y` is the name of the target (dependent) variable, `x` is the name of the feature (independent) variable, and `df` is the dataframe containing both `y` and `x`.\n",
    "\n",
    "In the cell below, fill in the appropriate values to create and summarize a simple linear regression model where `SalePrice` is the target and `GrLivArea` is the feature."
   ]
  },
  {
   "cell_type": "code",
   "execution_count": null,
   "metadata": {
    "deletable": false,
    "nbgrader": {
     "cell_type": "code",
     "checksum": "fec669a72205701aad16e9aafb17f72f",
     "grade": false,
     "grade_id": "cell-652f04adad36b12a",
     "locked": false,
     "schema_version": 3,
     "solution": true,
     "task": false
    }
   },
   "outputs": [],
   "source": [
    "from statsmodels.formula.api import ols\n",
    "\n",
    "# Replace None with appropriate code\n",
    "simple_formula = None\n",
    "simple_model = None\n",
    "simple_model_summary = None\n",
    "# YOUR CODE HERE\n",
    "raise NotImplementedError()\n",
    "simple_model_summary"
   ]
  },
  {
   "cell_type": "code",
   "execution_count": null,
   "metadata": {
    "deletable": false,
    "editable": false,
    "nbgrader": {
     "cell_type": "code",
     "checksum": "86f6dfc84cc4e7d85c972477ef35dd2f",
     "grade": true,
     "grade_id": "cell-7dd2ee8651ceae28",
     "locked": true,
     "points": 0.5,
     "schema_version": 3,
     "solution": false,
     "task": false
    }
   },
   "outputs": [],
   "source": [
    "import statsmodels\n",
    "\n",
    "# simple_model should be a model fit with 1 feature\n",
    "assert simple_model.df_model == 1\n",
    "\n",
    "# simple_model_summary should be a StatsModels model summary\n",
    "assert type(simple_model_summary) == statsmodels.iolib.summary.Summary\n",
    "\n",
    "# PUT ALL WORK FOR THE ABOVE QUESTION ABOVE THIS CELL\n",
    "# THIS UNALTERABLE CELL CONTAINS HIDDEN TESTS"
   ]
  },
  {
   "cell_type": "markdown",
   "metadata": {
    "deletable": false,
    "editable": false,
    "nbgrader": {
     "cell_type": "markdown",
     "checksum": "795ccaeff6ee082adada242ee62eaa03",
     "grade": false,
     "grade_id": "cell-6a16843c25dfd25c",
     "locked": true,
     "schema_version": 3,
     "solution": false,
     "task": false
    }
   },
   "source": [
    "## 2. Interpret Simple Linear Regression Model Metrics\n",
    "\n",
    "We want to know:\n",
    "\n",
    "1. How much of the variance is explained by this model? This is also known as the r-squared. Fill in `r_squared` with this value — a floating point number between 0 and 1.\n",
    "2. Is the model statistically significant at $\\alpha = 0.05$? This is determined by comparing the probability of the f-statistic to the alpha. Fill in `model_is_significant` with this value — either `True` or `False`.\n",
    "\n",
    "You can either just look at the print-out above and fill in the values, or you can use attributes of `simple_model` ([documentation here](https://www.statsmodels.org/devel/generated/statsmodels.regression.linear_model.RegressionResults.html)). If you are getting stuck, it's usually easier to type the answer in rather than writing code to do it."
   ]
  },
  {
   "cell_type": "code",
   "execution_count": null,
   "metadata": {
    "deletable": false,
    "nbgrader": {
     "cell_type": "code",
     "checksum": "c987ad3be2c533772092659d086f563c",
     "grade": false,
     "grade_id": "cell-58db32b0f8b50f61",
     "locked": false,
     "schema_version": 3,
     "solution": true,
     "task": false
    }
   },
   "outputs": [],
   "source": [
    "# Replace None with appropriate code\n",
    "r_squared = None\n",
    "model_is_significant = None\n",
    "# YOUR CODE HERE\n",
    "raise NotImplementedError()"
   ]
  },
  {
   "cell_type": "code",
   "execution_count": null,
   "metadata": {
    "deletable": false,
    "editable": false,
    "nbgrader": {
     "cell_type": "code",
     "checksum": "a9447fc7fdfc9d48ec5f3fd222bc71ff",
     "grade": true,
     "grade_id": "cell-3df92cb526f874ea",
     "locked": true,
     "points": 0.5,
     "schema_version": 3,
     "solution": false,
     "task": false
    }
   },
   "outputs": [],
   "source": [
    "import numpy as np\n",
    "\n",
    "# r_squared should be a floating point value between 0 and 1\n",
    "assert 0 <= r_squared and r_squared <= 1\n",
    "assert type(r_squared) == float or type(r_squared) == np.float64\n",
    "\n",
    "# PUT ALL WORK FOR THE ABOVE QUESTION ABOVE THIS CELL\n",
    "# THIS UNALTERABLE CELL CONTAINS HIDDEN TESTS"
   ]
  },
  {
   "cell_type": "code",
   "execution_count": null,
   "metadata": {
    "deletable": false,
    "editable": false,
    "nbgrader": {
     "cell_type": "code",
     "checksum": "000d41b50d6dbe7e71572e03b205878d",
     "grade": true,
     "grade_id": "cell-6822816e90525e07",
     "locked": true,
     "points": 0.5,
     "schema_version": 3,
     "solution": false,
     "task": false
    }
   },
   "outputs": [],
   "source": [
    "# model_is_significant should be True or False\n",
    "assert model_is_significant == True or model_is_significant == False\n",
    "\n",
    "# PUT ALL WORK FOR THE ABOVE QUESTION ABOVE THIS CELL\n",
    "# THIS UNALTERABLE CELL CONTAINS HIDDEN TESTS"
   ]
  },
  {
   "cell_type": "markdown",
   "metadata": {
    "deletable": false,
    "editable": false,
    "nbgrader": {
     "cell_type": "markdown",
     "checksum": "11dc25bc5666989e9db0c876f8abcfd8",
     "grade": false,
     "grade_id": "cell-ce249a1b0434aa5b",
     "locked": true,
     "schema_version": 3,
     "solution": false,
     "task": false
    }
   },
   "source": [
    "## 3. Interpret Simple Linear Regression Parameters\n",
    "\n",
    "Now, we want to know what relationship the model has found between the feature and the target. Because this is a simple linear regression, it follows the format of $y = mx + b$ where $y$ is the `SalePrice`, $m$ is the slope of `GrLivArea`, $x$ is `GrLivArea`, and $b$ is the y-intercept (the value of $y$ when $x$ is 0).\n",
    "\n",
    "In the cell below, fill in appropriate values for `m` and `b`. Again, you can use the print-out above or use attributes of `simple_model`."
   ]
  },
  {
   "cell_type": "code",
   "execution_count": null,
   "metadata": {
    "deletable": false,
    "nbgrader": {
     "cell_type": "code",
     "checksum": "83b927ba7e0e1cc67260420d21bc55d2",
     "grade": false,
     "grade_id": "cell-e75986c4e6645412",
     "locked": false,
     "schema_version": 3,
     "solution": true,
     "task": false
    }
   },
   "outputs": [],
   "source": [
    "# Replace None with appropriate code\n",
    "\n",
    "# Slope (coefficient of GrLivArea)\n",
    "m = None\n",
    "\n",
    "# Intercept (coefficient of Intercept)\n",
    "b = None\n",
    "\n",
    "# YOUR CODE HERE\n",
    "raise NotImplementedError()\n",
    "\n",
    "print(f\"\"\"\n",
    "Our simple linear regression model found a y-intercept\n",
    "of ${round(b, 2)}, then for every increase of 1 square foot\n",
    "above-ground living area, the price increases by ${round(m, 2)} \n",
    "\"\"\")"
   ]
  },
  {
   "cell_type": "code",
   "execution_count": null,
   "metadata": {
    "deletable": false,
    "editable": false,
    "nbgrader": {
     "cell_type": "code",
     "checksum": "bbeb258f4ee94ed4bc9bf633a8c807c9",
     "grade": true,
     "grade_id": "cell-37315757b2ac6e4c",
     "locked": true,
     "points": 0.5,
     "schema_version": 3,
     "solution": false,
     "task": false
    }
   },
   "outputs": [],
   "source": [
    "from numbers import Number\n",
    "\n",
    "# m should be a number\n",
    "assert isinstance(m, Number)\n",
    "\n",
    "# PUT ALL WORK FOR THE ABOVE QUESTION ABOVE THIS CELL\n",
    "# THIS UNALTERABLE CELL CONTAINS HIDDEN TESTS"
   ]
  },
  {
   "cell_type": "code",
   "execution_count": null,
   "metadata": {
    "deletable": false,
    "editable": false,
    "nbgrader": {
     "cell_type": "code",
     "checksum": "479afb36fd7abc131885cb051606c96a",
     "grade": true,
     "grade_id": "cell-60df76839beb17a6",
     "locked": true,
     "points": 0.5,
     "schema_version": 3,
     "solution": false,
     "task": false
    }
   },
   "outputs": [],
   "source": [
    "# b should be a number\n",
    "assert isinstance(b, Number)\n",
    "\n",
    "# PUT ALL WORK FOR THE ABOVE QUESTION ABOVE THIS CELL\n",
    "# THIS UNALTERABLE CELL CONTAINS HIDDEN TESTS"
   ]
  },
  {
   "cell_type": "markdown",
   "metadata": {
    "deletable": false,
    "editable": false,
    "nbgrader": {
     "cell_type": "markdown",
     "checksum": "6427b67a5aea713fe81b3e0c18a00763",
     "grade": false,
     "grade_id": "cell-99898204e2a83336",
     "locked": true,
     "schema_version": 3,
     "solution": false,
     "task": false
    }
   },
   "source": [
    "## 4. Build a Multiple Regression Model Using StatsModels\n",
    "\n",
    "Now, build a model that contains all of the features present in `df`. Recall that the general process for building a multiple regression model is something like this:\n",
    "\n",
    "```python\n",
    "formula = 'y ~ x_1 + x_2 + x_3'\n",
    "model = ols(formula, df).fit()\n",
    "summary = model.summary()\n",
    "```\n",
    "\n",
    "Where `y` and `df` are the same as in the previous example, but now there are multiple features represented by `x_1`, `x_2`, `x_3`, etc.\n",
    "\n",
    "Specifically, your model should have `SalePrice` as the target, and these columns as features:\n",
    "\n",
    "* `GrLivArea`\n",
    "* `GarageArea`\n",
    "* `LotArea`\n",
    "* `LotFrontage`"
   ]
  },
  {
   "cell_type": "code",
   "execution_count": null,
   "metadata": {
    "deletable": false,
    "nbgrader": {
     "cell_type": "code",
     "checksum": "8b70f25d3f84886d1e68d7feb40ca06d",
     "grade": false,
     "grade_id": "cell-bd6e3935a342ed4b",
     "locked": false,
     "schema_version": 3,
     "solution": true,
     "task": false
    }
   },
   "outputs": [],
   "source": [
    "# Replace None with appropriate code\n",
    "multiple_formula = None\n",
    "multiple_model = None\n",
    "multiple_model_summary = None\n",
    "# YOUR CODE HERE\n",
    "raise NotImplementedError()\n",
    "multiple_model_summary"
   ]
  },
  {
   "cell_type": "code",
   "execution_count": null,
   "metadata": {
    "deletable": false,
    "editable": false,
    "nbgrader": {
     "cell_type": "code",
     "checksum": "0243f4f684d8f7351a443cef57671653",
     "grade": true,
     "grade_id": "cell-0139e48f52f47e59",
     "locked": true,
     "points": 0.5,
     "schema_version": 3,
     "solution": false,
     "task": false
    }
   },
   "outputs": [],
   "source": [
    "# multiple_model should be a model fit with 4 features\n",
    "assert multiple_model.df_model == 4\n",
    "\n",
    "# multiple_model_summary should be a StatsModels model summary\n",
    "assert type(multiple_model_summary) == statsmodels.iolib.summary.Summary\n",
    "\n",
    "# PUT ALL WORK FOR THE ABOVE QUESTION ABOVE THIS CELL\n",
    "# THIS UNALTERABLE CELL CONTAINS HIDDEN TESTS"
   ]
  },
  {
   "cell_type": "markdown",
   "metadata": {
    "deletable": false,
    "editable": false,
    "nbgrader": {
     "cell_type": "markdown",
     "checksum": "3f1c8fe050115cd1d18f052d79b3f09d",
     "grade": false,
     "grade_id": "cell-21fd65acb59f4dc2",
     "locked": true,
     "schema_version": 3,
     "solution": false,
     "task": false
    }
   },
   "source": [
    "## 5. Interpret Multiple Regression Model Metrics\n",
    "\n",
    "Now we want to know: **is our multiple linear regression model a better fit than our simple linear regression model? We'll measure this in terms of percentage of variance explained (r-squared)**, where a higher r-squared indicates a better fit.\n",
    "\n",
    "Replace `second_model_is_better` with either `True` if this model is better, or `False` if the previous model was better (or the two models are exactly the same)."
   ]
  },
  {
   "cell_type": "code",
   "execution_count": null,
   "metadata": {
    "deletable": false,
    "nbgrader": {
     "cell_type": "code",
     "checksum": "a3332b99bd9d0d45b73b8d7874f10d22",
     "grade": false,
     "grade_id": "cell-f0746c6b33a4592d",
     "locked": false,
     "schema_version": 3,
     "solution": true,
     "task": false
    }
   },
   "outputs": [],
   "source": [
    "# Replace None with appropriate code\n",
    "second_model_is_better = None\n",
    "# YOUR CODE HERE\n",
    "raise NotImplementedError()"
   ]
  },
  {
   "cell_type": "code",
   "execution_count": null,
   "metadata": {
    "deletable": false,
    "editable": false,
    "nbgrader": {
     "cell_type": "code",
     "checksum": "73096fd90093a08084cf02adde8657be",
     "grade": true,
     "grade_id": "cell-e28e2c101115d10b",
     "locked": true,
     "points": 1,
     "schema_version": 3,
     "solution": false,
     "task": false
    }
   },
   "outputs": [],
   "source": [
    "# second_model_is_better should be True or False\n",
    "assert second_model_is_better == True or second_model_is_better == False\n",
    "\n",
    "# PUT ALL WORK FOR THE ABOVE QUESTION ABOVE THIS CELL\n",
    "# THIS UNALTERABLE CELL CONTAINS HIDDEN TESTS"
   ]
  },
  {
   "cell_type": "markdown",
   "metadata": {
    "deletable": false,
    "editable": false,
    "nbgrader": {
     "cell_type": "markdown",
     "checksum": "3d144e7e367dabbead0cde190cf7b0a4",
     "grade": false,
     "grade_id": "cell-0475c4a1b851ba21",
     "locked": true,
     "schema_version": 3,
     "solution": false,
     "task": false
    }
   },
   "source": [
    "**If we need to drop one feature from this model, which should it be?** Consider the p-values in the print-out above, as well as the correlations shown below."
   ]
  },
  {
   "cell_type": "code",
   "execution_count": null,
   "metadata": {
    "deletable": false,
    "editable": false,
    "nbgrader": {
     "cell_type": "code",
     "checksum": "b3e7e63eaeb21803f1aa9f9171558ae8",
     "grade": false,
     "grade_id": "cell-33a8bea9364bc775",
     "locked": true,
     "schema_version": 3,
     "solution": false,
     "task": false
    }
   },
   "outputs": [],
   "source": [
    "# Run this cell without changes\n",
    "\n",
    "# Showing the average correlation with other features\n",
    "# (including itself). This does NOT include correlations\n",
    "# with SalePrice, only with other features\n",
    "correlations = df.drop(\"SalePrice\", axis=1).corr().sum() / 4\n",
    "correlations"
   ]
  },
  {
   "cell_type": "markdown",
   "metadata": {
    "deletable": false,
    "editable": false,
    "nbgrader": {
     "cell_type": "markdown",
     "checksum": "f901908964ca282b4711dfa0926c7208",
     "grade": false,
     "grade_id": "cell-18ddedc7874e23e3",
     "locked": true,
     "schema_version": 3,
     "solution": false,
     "task": false
    }
   },
   "source": [
    "Replace `feature_to_drop` with the name of the features, which should be one of these four:\n",
    "\n",
    "* `GrLivArea`\n",
    "* `GarageArea`\n",
    "* `LotArea`\n",
    "* `LotFrontage`"
   ]
  },
  {
   "cell_type": "code",
   "execution_count": null,
   "metadata": {
    "deletable": false,
    "nbgrader": {
     "cell_type": "code",
     "checksum": "8fa509994ce2d92d9ff9fb571906e1fa",
     "grade": false,
     "grade_id": "cell-9822a93057158dfd",
     "locked": false,
     "schema_version": 3,
     "solution": true,
     "task": false
    }
   },
   "outputs": [],
   "source": [
    "# Replace None with appropriate code\n",
    "feature_to_drop = None\n",
    "# YOUR CODE HERE\n",
    "raise NotImplementedError()"
   ]
  },
  {
   "cell_type": "code",
   "execution_count": null,
   "metadata": {
    "deletable": false,
    "editable": false,
    "nbgrader": {
     "cell_type": "code",
     "checksum": "184e0be7ef9a242e304b483b0a740bfa",
     "grade": true,
     "grade_id": "cell-0d95ff56e49564a3",
     "locked": true,
     "points": 1,
     "schema_version": 3,
     "solution": false,
     "task": false
    }
   },
   "outputs": [],
   "source": [
    "# feature_to_drop should be a string\n",
    "assert type(feature_to_drop) == str\n",
    "\n",
    "# It should be one of the features in df\n",
    "assert feature_to_drop in df.columns\n",
    "\n",
    "# PUT ALL WORK FOR THE ABOVE QUESTION ABOVE THIS CELL\n",
    "# THIS UNALTERABLE CELL CONTAINS HIDDEN TESTS"
   ]
  }
 ],
 "metadata": {
  "kernelspec": {
   "display_name": "Python 3 (ipykernel)",
   "language": "python",
   "name": "python3"
  },
  "language_info": {
   "codemirror_mode": {
    "name": "ipython",
    "version": 3
   },
   "file_extension": ".py",
   "mimetype": "text/x-python",
   "name": "python",
   "nbconvert_exporter": "python",
   "pygments_lexer": "ipython3",
   "version": "3.11.7"
  }
 },
 "nbformat": 4,
 "nbformat_minor": 4
}
